{
 "cells": [
  {
   "cell_type": "code",
   "execution_count": 1,
   "metadata": {},
   "outputs": [
    {
     "name": "stdout",
     "output_type": "stream",
     "text": [
      "WARNING:tensorflow:From <ipython-input-1-b07c0df61fef>:11: string_input_producer (from tensorflow.python.training.input) is deprecated and will be removed in a future version.\n",
      "Instructions for updating:\n",
      "Queue-based input pipelines have been replaced by `tf.data`. Use `tf.data.Dataset.from_tensor_slices(string_tensor).shuffle(tf.shape(input_tensor, out_type=tf.int64)[0]).repeat(num_epochs)`. If `shuffle=False`, omit the `.shuffle(...)`.\n",
      "WARNING:tensorflow:From C:\\Users\\William Baker\\Anaconda3\\lib\\site-packages\\tensorflow\\python\\training\\input.py:276: input_producer (from tensorflow.python.training.input) is deprecated and will be removed in a future version.\n",
      "Instructions for updating:\n",
      "Queue-based input pipelines have been replaced by `tf.data`. Use `tf.data.Dataset.from_tensor_slices(input_tensor).shuffle(tf.shape(input_tensor, out_type=tf.int64)[0]).repeat(num_epochs)`. If `shuffle=False`, omit the `.shuffle(...)`.\n",
      "WARNING:tensorflow:From C:\\Users\\William Baker\\Anaconda3\\lib\\site-packages\\tensorflow\\python\\training\\input.py:188: limit_epochs (from tensorflow.python.training.input) is deprecated and will be removed in a future version.\n",
      "Instructions for updating:\n",
      "Queue-based input pipelines have been replaced by `tf.data`. Use `tf.data.Dataset.from_tensors(tensor).repeat(num_epochs)`.\n",
      "WARNING:tensorflow:From C:\\Users\\William Baker\\Anaconda3\\lib\\site-packages\\tensorflow\\python\\training\\input.py:197: QueueRunner.__init__ (from tensorflow.python.training.queue_runner_impl) is deprecated and will be removed in a future version.\n",
      "Instructions for updating:\n",
      "To construct input pipelines, use the `tf.data` module.\n",
      "WARNING:tensorflow:From C:\\Users\\William Baker\\Anaconda3\\lib\\site-packages\\tensorflow\\python\\training\\input.py:197: add_queue_runner (from tensorflow.python.training.queue_runner_impl) is deprecated and will be removed in a future version.\n",
      "Instructions for updating:\n",
      "To construct input pipelines, use the `tf.data` module.\n",
      "WARNING:tensorflow:From <ipython-input-1-b07c0df61fef>:13: TextLineReader.__init__ (from tensorflow.python.ops.io_ops) is deprecated and will be removed in a future version.\n",
      "Instructions for updating:\n",
      "Queue-based input pipelines have been replaced by `tf.data`. Use `tf.data.TextLineDataset`.\n",
      "WARNING:tensorflow:From <ipython-input-1-b07c0df61fef>:20: batch (from tensorflow.python.training.input) is deprecated and will be removed in a future version.\n",
      "Instructions for updating:\n",
      "Queue-based input pipelines have been replaced by `tf.data`. Use `tf.data.Dataset.batch(batch_size)` (or `padded_batch(...)` if `dynamic_pad=True`).\n",
      "Tensor(\"batch:0\", shape=(9,), dtype=string) Tensor(\"batch:1\", shape=(9,), dtype=string)\n",
      "WARNING:tensorflow:From <ipython-input-1-b07c0df61fef>:39: start_queue_runners (from tensorflow.python.training.queue_runner_impl) is deprecated and will be removed in a future version.\n",
      "Instructions for updating:\n",
      "To construct input pipelines, use the `tf.data` module.\n",
      "[array([b'Alpha1', b'Alpha2', b'Alpha3', b'Sea1', b'Sea2', b'Sea3',\n",
      "       b'Bee1', b'Bee2', b'Bee3'], dtype=object), array([b'A1', b'A2', b'A3', b'C1', b'C2', b'C3', b'B1', b'B2', b'B3'],\n",
      "      dtype=object)]\n"
     ]
    }
   ],
   "source": [
    "import tensorflow as tf\n",
    "import os\n",
    "\n",
    "def csvread(filelist):\n",
    "    \"\"\"\n",
    "    读取CSV文件\n",
    "    :param filelist:文件路径+名字的列表\n",
    "    :return:返回读取的内容\n",
    "    \"\"\"\n",
    "    # 1、构造文件的队列\n",
    "    file_queue = tf.train.string_input_producer(filelist)\n",
    "    # 2、构造CSV阅读器读取队列数据（按照一行读取\n",
    "    reader = tf.TextLineReader()\n",
    "    key, value = reader.read(file_queue)\n",
    "    # 3、对每行内容进行解码\n",
    "    # 其中参数record_defaults：指定每个样本每列的类型及指定默认值，如records = [[\"None\"], [4.0]]\n",
    "    records = [[\"None\"], [\"None\"]]\n",
    "    example, label = tf.decode_csv(value, record_defaults=records)   # 对record解码，并指定每列的类型\n",
    "    # 4、想要读取多个数据，批处理实现\n",
    "    example_batch, label_batch = tf.train.batch([example, label], batch_size=9, num_threads=1, capacity=9)\n",
    "    # print(example, label)\n",
    "    # print(value)\n",
    "    print(example_batch, label_batch)\n",
    "    return example_batch, label_batch\n",
    "\n",
    "if __name__ == \"__main__\":\n",
    "    # 1、找到文件，放入列表  路径+名字->放到列表当中\n",
    "    file_name = os.listdir(\"F:/TensorFlow/csvdata/\")\n",
    "    filelist = [os.path.join(\"F:/TensorFlow/csvdata/\", file) for file in file_name]\n",
    "\n",
    "    # print(file_name)\n",
    "    # print(file_list)\n",
    "    example_batch, label_batch = csvread(filelist)\n",
    "    # 开启会话，运行结果\n",
    "    with tf.Session() as sess:\n",
    "        # 定义一个线程协调器\n",
    "        coord = tf.train.Coordinator()\n",
    "        # 开启读取文件的线程\n",
    "        threads = tf.train.start_queue_runners(sess, coord=coord)\n",
    "        # 打印读取的内容\n",
    "        print(sess.run([example_batch, label_batch]))\n",
    "\n",
    "        # 回收子线程\n",
    "        coord.request_stop()\n",
    "        coord.join(threads)\n"
   ]
  },
  {
   "cell_type": "code",
   "execution_count": null,
   "metadata": {},
   "outputs": [],
   "source": []
  }
 ],
 "metadata": {
  "kernelspec": {
   "display_name": "Python 3",
   "language": "python",
   "name": "python3"
  },
  "language_info": {
   "codemirror_mode": {
    "name": "ipython",
    "version": 3
   },
   "file_extension": ".py",
   "mimetype": "text/x-python",
   "name": "python",
   "nbconvert_exporter": "python",
   "pygments_lexer": "ipython3",
   "version": "3.6.4"
  }
 },
 "nbformat": 4,
 "nbformat_minor": 2
}
