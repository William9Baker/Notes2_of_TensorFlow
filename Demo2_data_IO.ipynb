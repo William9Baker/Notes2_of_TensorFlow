{
 "cells": [
  {
   "cell_type": "code",
   "execution_count": 4,
   "metadata": {},
   "outputs": [
    {
     "name": "stdout",
     "output_type": "stream",
     "text": [
      "33.2\n",
      "33.3\n",
      "34.1\n"
     ]
    }
   ],
   "source": [
    "import tensorflow as tf\n",
    "\n",
    "# 模拟一下同步先处理数据，然后才能取数据训练\n",
    "# 1、首先定义队列\n",
    "Q = tf.FIFOQueue(3, tf.float32)\n",
    "\n",
    "# 放入一些数据\n",
    "enq_many = Q.enqueue_many([[0.1, 0.2, 0.3], ])\n",
    "\n",
    "#  2、定义一些处理数据的逻辑，取数据的过程 （取数据，+1， 入队列）\n",
    "out_q = Q.dequeue()\n",
    "data = out_q + 1\n",
    "en_q = Q.enqueue(data)\n",
    "\n",
    "with tf.Session() as sess:\n",
    "    # 初始化队列\n",
    "    sess.run(enq_many)\n",
    "    # 处理数据\n",
    "    for i in range(100):\n",
    "        sess.run(en_q)\n",
    "    # 训练数据\n",
    "    for i in range(Q.size().eval()):\n",
    "        print(sess.run(Q.dequeue()))\n"
   ]
  },
  {
   "cell_type": "code",
   "execution_count": null,
   "metadata": {},
   "outputs": [],
   "source": []
  }
 ],
 "metadata": {
  "kernelspec": {
   "display_name": "Python 3",
   "language": "python",
   "name": "python3"
  },
  "language_info": {
   "codemirror_mode": {
    "name": "ipython",
    "version": 3
   },
   "file_extension": ".py",
   "mimetype": "text/x-python",
   "name": "python",
   "nbconvert_exporter": "python",
   "pygments_lexer": "ipython3",
   "version": "3.6.4"
  }
 },
 "nbformat": 4,
 "nbformat_minor": 2
}
