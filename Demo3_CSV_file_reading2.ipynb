{
 "cells": [
  {
   "cell_type": "code",
   "execution_count": 1,
   "metadata": {},
   "outputs": [
    {
     "name": "stdout",
     "output_type": "stream",
     "text": [
      "['F:/TensorFlow/csvdata/A.csv', 'F:/TensorFlow/csvdata/B.csv', 'F:/TensorFlow/csvdata/C.csv']\n"
     ]
    }
   ],
   "source": [
    "import tensorflow as tf\n",
    "import os\n",
    "\n",
    "def csvread(filelist):\n",
    "    \"\"\"\n",
    "    读取CSV文件\n",
    "    :param filelist:文件路径+名字的列表\n",
    "    :return:返回读取的内容\n",
    "    \"\"\"\n",
    "    return None\n",
    "\n",
    "if __name__ == \"__main__\":\n",
    "    # 1、找到文件，放入列表  路径+名字->放到列表当中\n",
    "    file_name = os.listdir(\"F:/TensorFlow/csvdata/\")\n",
    "    file_list = [os.path.join(\"F:/TensorFlow/csvdata/\", file) for file in file_name]\n",
    "\n",
    "    # print(file_name)\n",
    "    print(file_list)\n",
    "    # csvread(filelist)"
   ]
  },
  {
   "cell_type": "code",
   "execution_count": null,
   "metadata": {},
   "outputs": [],
   "source": []
  }
 ],
 "metadata": {
  "kernelspec": {
   "display_name": "Python 3",
   "language": "python",
   "name": "python3"
  },
  "language_info": {
   "codemirror_mode": {
    "name": "ipython",
    "version": 3
   },
   "file_extension": ".py",
   "mimetype": "text/x-python",
   "name": "python",
   "nbconvert_exporter": "python",
   "pygments_lexer": "ipython3",
   "version": "3.6.4"
  }
 },
 "nbformat": 4,
 "nbformat_minor": 2
}
