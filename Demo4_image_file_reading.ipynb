{
 "cells": [
  {
   "cell_type": "code",
   "execution_count": 3,
   "metadata": {},
   "outputs": [
    {
     "name": "stdout",
     "output_type": "stream",
     "text": [
      "Tensor(\"ReaderReadV2_2:1\", shape=(), dtype=string)\n"
     ]
    }
   ],
   "source": [
    "import tensorflow as tf\n",
    "import os\n",
    "\n",
    "def csvread(filelist):\n",
    "    \"\"\"\n",
    "    读取CSV文件\n",
    "    :param filelist:文件路径+名字的列表\n",
    "    :return:返回读取的内容\n",
    "    \"\"\"\n",
    "    # 1、构造文件的队列\n",
    "    file_queue = tf.train.string_input_producer(filelist)\n",
    "    # 2、构造CSV阅读器读取队列数据（按照一行读取\n",
    "    reader = tf.TextLineReader()\n",
    "    key, value = reader.read(file_queue)\n",
    "    # 3、对每行内容进行解码\n",
    "    # 其中参数record_defaults：指定每个样本每列的类型及指定默认值，如records = [[\"None\"], [4.0]]\n",
    "    records = [[\"None\"], [\"None\"]]\n",
    "    example, label = tf.decode_csv(value, record_defaults=records)   # 对record解码，并指定每列的类型\n",
    "    # 4、想要读取多个数据，批处理实现\n",
    "    # 批处理的大小对队列、数据的数量没有影响，批处理大小只决定这批次取多少数据\n",
    "    example_batch, label_batch = tf.train.batch([example, label], batch_size=9, num_threads=1, capacity=9)\n",
    "    # print(example, label)\n",
    "    # print(value)\n",
    "    print(example_batch, label_batch)\n",
    "    return example_batch, label_batch\n",
    "\n",
    "def picread(filelist):\n",
    "    \"\"\"\n",
    "    读取狗图片并转换成张量\n",
    "    :param filelist: 文件路径+ 名字的列表\n",
    "    :return: 每张图片的张量\n",
    "    \"\"\"\n",
    "    # 1、构造文件队列\n",
    "    file_queue = tf.train.string_input_producer(filelist)\n",
    "    # 2、构造阅读器去读取图片内容（默认读取一张图片）\n",
    "    reader = tf.WholeFileReader()\n",
    "    key, value = reader.read(file_queue)\n",
    "    print(value)\n",
    "\n",
    "    return None\n",
    "\n",
    "if __name__ == \"__main__\":\n",
    "    # 1、找到文件，放入列表  路径+名字->放到列表当中\n",
    "    file_name = os.listdir(\"F:/TensorFlow/data/dog/\")\n",
    "    filelist = [os.path.join(\"F:/TensorFlow/data/dog/\", file) for file in file_name]\n",
    "\n",
    "    # print(file_name)\n",
    "    # print(file_list)\n",
    "    picread(filelist)\n",
    "    # 开启会话，运行结果\n",
    "    with tf.Session() as sess:\n",
    "        # 定义一个线程协调器\n",
    "        coord = tf.train.Coordinator()\n",
    "        # 开启读取文件的线程\n",
    "        threads = tf.train.start_queue_runners(sess, coord=coord)\n",
    "        # for i in range()\n",
    "        # 打印读取的内容\n",
    "        # print(sess.run([example_batch, label_batch]))\n",
    "\n",
    "        # 回收子线程\n",
    "        coord.request_stop()\n",
    "        coord.join(threads)\n"
   ]
  },
  {
   "cell_type": "code",
   "execution_count": null,
   "metadata": {},
   "outputs": [],
   "source": []
  }
 ],
 "metadata": {
  "kernelspec": {
   "display_name": "Python 3",
   "language": "python",
   "name": "python3"
  },
  "language_info": {
   "codemirror_mode": {
    "name": "ipython",
    "version": 3
   },
   "file_extension": ".py",
   "mimetype": "text/x-python",
   "name": "python",
   "nbconvert_exporter": "python",
   "pygments_lexer": "ipython3",
   "version": "3.6.4"
  }
 },
 "nbformat": 4,
 "nbformat_minor": 2
}
