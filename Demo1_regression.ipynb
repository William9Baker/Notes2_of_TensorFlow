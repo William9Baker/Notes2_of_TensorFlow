{
 "cells": [
  {
   "cell_type": "code",
   "execution_count": 4,
   "metadata": {},
   "outputs": [],
   "source": [
    "import tensorflow as tf"
   ]
  },
  {
   "cell_type": "code",
   "execution_count": 6,
   "metadata": {},
   "outputs": [
    {
     "name": "stdout",
     "output_type": "stream",
     "text": [
      "随机初始化的参数权重为: -0.628029, 偏置为: 0.000000\n",
      "参数权重为: 0.548924, 偏置为: 0.625471\n"
     ]
    }
   ],
   "source": [
    "def myregression():\n",
    "    # 1、准备数据，x 特征值 [100, 1]   （100个样本，1个特征）\n",
    "    x = tf.random_normal([100, 1], mean=1.75, stddev=0.5, name=\"x_data\")\n",
    "    y_true = tf.matmul(x, [[0.7]]) + 0.8\n",
    "\n",
    "    # weight也是一个op\n",
    "    weight = tf.Variable(tf.random_normal([1, 1], mean=0.0, stddev=1.0), name=\"weight\")\n",
    "    bias = tf.Variable(0.0, name=\"b\")    # 初始化为0.0\n",
    "\n",
    "    y_predict = tf.matmul(x, weight) + bias\n",
    "\n",
    "    loss = tf.reduce_mean(tf.square(y_true - y_predict))\n",
    "\n",
    "    train_op = tf.train.GradientDescentOptimizer(0.1).minimize(loss)\n",
    "\n",
    "    initializer_op = tf.global_variables_initializer()  # 初始化变量weight和bias\n",
    "\n",
    "    with tf.Session() as sess:\n",
    "        sess.run(initializer_op)\n",
    "        print(\"随机初始化的参数权重为: %f, 偏置为: %f\" % (weight.eval(), bias.eval()))\n",
    "        sess.run(train_op)\n",
    "        print(\"参数权重为: %f, 偏置为: %f\" % (weight.eval(), bias.eval()))\n",
    "\n",
    "    return None\n",
    "\n",
    "if __name__ == \"__main__\":\n",
    "    myregression()"
   ]
  },
  {
   "cell_type": "code",
   "execution_count": null,
   "metadata": {},
   "outputs": [],
   "source": []
  }
 ],
 "metadata": {
  "kernelspec": {
   "display_name": "Python 3",
   "language": "python",
   "name": "python3"
  },
  "language_info": {
   "codemirror_mode": {
    "name": "ipython",
    "version": 3
   },
   "file_extension": ".py",
   "mimetype": "text/x-python",
   "name": "python",
   "nbconvert_exporter": "python",
   "pygments_lexer": "ipython3",
   "version": "3.6.4"
  }
 },
 "nbformat": 4,
 "nbformat_minor": 2
}
